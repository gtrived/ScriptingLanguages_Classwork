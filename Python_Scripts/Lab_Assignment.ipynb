{
  "nbformat": 4,
  "nbformat_minor": 0,
  "metadata": {
    "kernelspec": {
      "display_name": "Python 3",
      "language": "python",
      "name": "python3"
    },
    "language_info": {
      "codemirror_mode": {
        "name": "ipython",
        "version": 3
      },
      "file_extension": ".py",
      "mimetype": "text/x-python",
      "name": "python",
      "nbconvert_exporter": "python",
      "pygments_lexer": "ipython3",
      "version": "3.7.7"
    },
    "colab": {
      "name": "Lab_Assignment.ipynb",
      "provenance": [],
      "include_colab_link": true
    }
  },
  "cells": [
    {
      "cell_type": "markdown",
      "metadata": {
        "id": "view-in-github",
        "colab_type": "text"
      },
      "source": [
        "<a href=\"https://colab.research.google.com/github/gtrived/ScriptingLanguages_Classwork/blob/master/Python_Scripts/Lab_Assignment.ipynb\" target=\"_parent\"><img src=\"https://colab.research.google.com/assets/colab-badge.svg\" alt=\"Open In Colab\"/></a>"
      ]
    },
    {
      "cell_type": "markdown",
      "metadata": {
        "id": "oSj9fmsqMTCg",
        "colab_type": "text"
      },
      "source": [
        "Write a python script to create the list of COVID19 helpline numbers of States & Union Territories (UTs).\n",
        "\n",
        "https://www.mohfw.gov.in/pdf/coronvavirushelplinenumber.pdf"
      ]
    },
    {
      "cell_type": "code",
      "metadata": {
        "id": "W2VlXWa5MTCh",
        "colab_type": "code",
        "colab": {},
        "outputId": "4f6d9a87-38d1-42d3-833c-ba8a1ff8ce52"
      },
      "source": [
        "pip install PyPDF2"
      ],
      "execution_count": null,
      "outputs": [
        {
          "output_type": "stream",
          "text": [
            "Collecting PyPDF2Note: you may need to restart the kernel to use updated packages.\n"
          ],
          "name": "stdout"
        },
        {
          "output_type": "stream",
          "text": [
            "WARNING: You are using pip version 20.0.2; however, version 20.1 is available.\n",
            "You should consider upgrading via the 'C:\\Python37\\python.exe -m pip install --upgrade pip' command.\n"
          ],
          "name": "stderr"
        },
        {
          "output_type": "stream",
          "text": [
            "\n",
            "  Downloading PyPDF2-1.26.0.tar.gz (77 kB)\n",
            "Installing collected packages: PyPDF2\n",
            "    Running setup.py install for PyPDF2: started\n",
            "    Running setup.py install for PyPDF2: finished with status 'done'\n",
            "Successfully installed PyPDF2-1.26.0\n"
          ],
          "name": "stdout"
        }
      ]
    },
    {
      "cell_type": "code",
      "metadata": {
        "id": "pa8kef1YMTCk",
        "colab_type": "code",
        "colab": {},
        "outputId": "c8f4382b-77da-476c-e5e4-c67e343161c1"
      },
      "source": [
        "# importing required modules \n",
        "import PyPDF2 \n",
        "\n",
        "# creating a pdf file object \n",
        "pdfFileObj = open('coronvavirushelplinenumber.pdf', 'rb') \n",
        "\n",
        "# creating a pdf reader object \n",
        "pdfReader = PyPDF2.PdfFileReader(pdfFileObj) \n",
        "\n",
        "# printing number of pages in pdf file \n",
        "print(pdfReader.numPages) \n",
        "\n",
        "# creating a page object \n",
        "pageObj = pdfReader.getPage(0) \n",
        "\n",
        "# extracting text from page \n",
        "print(pageObj.extractText()) \n",
        "\n",
        "# closing the pdf file object \n",
        "pdfFileObj.close() \n"
      ],
      "execution_count": null,
      "outputs": [
        {
          "output_type": "stream",
          "text": [
            "1\n",
            " Central Helpline Number for corona\n",
            "-virus: \n",
            "-  +91-11-23978046\n",
            " Helpline Numbers \n",
            "of States & Union Territories (UTs)\n",
            " S. No\n",
            " Name of the State\n",
            " Helpline Nos.\n",
            " 1 Andhra Pradesh\n",
            " 0866-2410978\n",
            " 2 Arunachal Pradesh\n",
            " 9436055743\n",
            " 3 Assam\n",
            " 6913347770\n",
            " 4 Bihar\n",
            " 104 5 Chhattisgarh\n",
            " 104 6 Goa\n",
            " 104 7 Gujarat\n",
            " 104 8 Haryana\n",
            " 8558893911\n",
            " 9 Himachal Pradesh\n",
            " 104 10 Jharkhand\n",
            " 104 11 Karnataka\n",
            " 104 12 Kerala\n",
            " 0471-2552056\n",
            " 13 Madhya Pradesh\n",
            " 14 Maharashtra\n",
            " 020-26127394\n",
            " 15 Manipur\n",
            " 3852411668\n",
            " 16 Meghalaya\n",
            " 108 17 Mizoram\n",
            " 102 18 Nagaland\n",
            " 7005539653\n",
            " 19 Odisha\n",
            " 9439994859\n",
            " 20 Punjab\n",
            " 104 21 Rajasthan\n",
            " 0141-2225624\n",
            " 22 Sikkim\n",
            " 104 23 Tamil Nadu\n",
            " 044-29510500\n",
            " 24 Telangana\n",
            " 104 25 Tripura\n",
            " 0381-2315879\n",
            " 26 Uttarakhand\n",
            " 104 27 Uttar Pradesh\n",
            " 18001805145\n",
            " 28 West Bengal\n",
            " 1800313444222\n",
            ", 03323412600\n",
            ", S. No\n",
            " Name of Union Territory (UT)\n",
            " Helpline Nos.\n",
            " 1 Andaman and Nicobar\n",
            "  Islands\n",
            " 03192-232102\n",
            " 2 Chandigarh\n",
            " 9779558282\n",
            " 3 Dadra and Nagar Haveli and Daman & Diu\n",
            " 104 4 Delhi\n",
            " 011-22307145\n",
            " 5 Jammu & Kashmir\n",
            " 01912520982, 0194\n",
            "-2440283\n",
            " 6 Ladakh\n",
            " 01982256462\n",
            " 7 Lakshadweep\n",
            " 104 8 Puducherry\n",
            " 104 \n"
          ],
          "name": "stdout"
        }
      ]
    },
    {
      "cell_type": "code",
      "metadata": {
        "id": "IEfVQXijMTCm",
        "colab_type": "code",
        "colab": {}
      },
      "source": [
        "import shelve\n",
        "s = shelve.open(\"helplineDatabase.txt\")\n",
        "\n",
        "s['Andhra Pradesh'] = '0866-2410978'\n",
        "s['Arunachal Pradesh'] = '9436055743'\n",
        "s['Assam']='6913347770'\n",
        "s['Bihar']='104'\n",
        "s['Chhattisgarh']='104'\n",
        "s['Goa']='104'\n",
        "s['Gujarat']='104'\n",
        "s['Haryana']='8558893911'\n",
        "s['Himachal Pradesh']='104'\n",
        "s['Jharkhand']='104'\n",
        "s['Karnataka']='104'\n",
        "s['Kerela']='0471-2552056'\n",
        "s['Madhya Pradesh']='104'\n",
        "s['Maharashtra']='020-26127394'\n",
        "\n",
        "s['Manipur']='3852411668'\n",
        "s['Meghalaya']='108'\n",
        "s['Mizoram']='102'\n",
        "s['Nagaland']='7005539653'\n",
        "s['Odisha']='9439994859'\n",
        "s['Punjab']='104'\n",
        "s['Rajasthan']='0141-2225624'\n",
        "s['Sikkim']='104'\n",
        "s['Tamil Nadu']='044-29510500'\n",
        "s['Telangana']='104'\n",
        "s['Tripura']='0381-2315879'\n",
        "s['Uttarakhand']='104'\n",
        "s['Uttar Pradesh']='18001805145'\n",
        "s['West Bengal']='1800313444222, 03323412600'\n",
        "\n",
        "s['Andaman and Nicobar Islands']='03192-232102'\n",
        "s['Chandigarh']='9779558282'\n",
        "s['Dadra and Nagar Haveli and Daman & Diu']='104'\n",
        "s['Delhi']='011-22307145'\n",
        "s['Jammu & Kashmir']='01912520982, 0194-2440283'\n",
        "s['Ladakh']='01982256462'\n",
        "s['Lakshadweep']='104'\n",
        "s['Puducherry']='104' \n",
        "\n",
        "\n",
        "\n",
        "s.close()"
      ],
      "execution_count": null,
      "outputs": []
    },
    {
      "cell_type": "code",
      "metadata": {
        "id": "ED0BfT10MTCo",
        "colab_type": "code",
        "colab": {},
        "outputId": "a3221648-f839-4f73-c227-27f4fa2f1e33"
      },
      "source": [
        "s=shelve.open('helplineDatabase.txt')  \n",
        "s['Bihar']\n"
      ],
      "execution_count": null,
      "outputs": [
        {
          "output_type": "execute_result",
          "data": {
            "text/plain": [
              "'104'"
            ]
          },
          "metadata": {
            "tags": []
          },
          "execution_count": 5
        }
      ]
    },
    {
      "cell_type": "code",
      "metadata": {
        "id": "kDxSkdhuMTCq",
        "colab_type": "code",
        "colab": {}
      },
      "source": [
        ""
      ],
      "execution_count": null,
      "outputs": []
    }
  ]
}