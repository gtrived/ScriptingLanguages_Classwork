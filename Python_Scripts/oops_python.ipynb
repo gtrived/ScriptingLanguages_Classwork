{
  "nbformat": 4,
  "nbformat_minor": 0,
  "metadata": {
    "kernelspec": {
      "display_name": "Python 3",
      "language": "python",
      "name": "python3"
    },
    "language_info": {
      "codemirror_mode": {
        "name": "ipython",
        "version": 3
      },
      "file_extension": ".py",
      "mimetype": "text/x-python",
      "name": "python",
      "nbconvert_exporter": "python",
      "pygments_lexer": "ipython3",
      "version": "3.7.7"
    },
    "colab": {
      "name": "oops_python.ipynb",
      "provenance": [],
      "include_colab_link": true
    }
  },
  "cells": [
    {
      "cell_type": "markdown",
      "metadata": {
        "id": "view-in-github",
        "colab_type": "text"
      },
      "source": [
        "<a href=\"https://colab.research.google.com/github/gtrived/ScriptingLanguages_Classwork/blob/master/Python_Scripts/oops_python.ipynb\" target=\"_parent\"><img src=\"https://colab.research.google.com/assets/colab-badge.svg\" alt=\"Open In Colab\"/></a>"
      ]
    },
    {
      "cell_type": "markdown",
      "metadata": {
        "id": "4Sf92MFpIXRR",
        "colab_type": "text"
      },
      "source": [
        "## Write a python script to create :\n"
      ]
    },
    {
      "cell_type": "markdown",
      "metadata": {
        "id": "ZiVaKCinIXRS",
        "colab_type": "text"
      },
      "source": [
        "#### a) class House"
      ]
    },
    {
      "cell_type": "code",
      "metadata": {
        "id": "rOcvh94fIXRS",
        "colab_type": "code",
        "colab": {}
      },
      "source": [
        "class House:\n",
        "   'Common base class for all houses'\n",
        "   hCount = 0\n",
        "\n",
        "   def __init__(self, name, price):\n",
        "      self.name = name\n",
        "      self.price = price\n",
        "      House.hCount += 1\n",
        "   \n",
        "   def displayCount(self):\n",
        "     print (\"Total Houses %d\" % House.hCount)\n",
        "\n",
        "   def displayHouse(self):\n",
        "      print (\"Name : \", self.name,  \", Price: \", self.price)\n",
        "           "
      ],
      "execution_count": null,
      "outputs": []
    },
    {
      "cell_type": "markdown",
      "metadata": {
        "id": "xmBQMUvbIXRV",
        "colab_type": "text"
      },
      "source": [
        "#### b) Object"
      ]
    },
    {
      "cell_type": "code",
      "metadata": {
        "id": "Tsf3MiDVIXRV",
        "colab_type": "code",
        "colab": {}
      },
      "source": [
        "\"This would create first object of House class\"\n",
        "h1 = House(\"Flat_2bhk\", 2000)\n",
        "\"This would create second object of House class\"\n",
        "h2 = House(\"Flat_3bhk\", 5000)"
      ],
      "execution_count": null,
      "outputs": []
    },
    {
      "cell_type": "markdown",
      "metadata": {
        "id": "NxWsqIFCIXRX",
        "colab_type": "text"
      },
      "source": [
        "#### c) Inheritance\n"
      ]
    },
    {
      "cell_type": "code",
      "metadata": {
        "id": "0SfXAygdIXRX",
        "colab_type": "code",
        "colab": {}
      },
      "source": [
        "class House_Detail(House): # define child class\n",
        "   def __init__(self,name,price,location,area):\n",
        "      self.location = location\n",
        "      self.area = area  \n",
        "      # invoking the __init__ of the parent class  \n",
        "      House.__init__(self, name, price)   \n",
        "    \n",
        "\n",
        "\n",
        "   def displayHouse(self):\n",
        "      print (\"Name : \", self.name,  \", Price: \", self.price)\n",
        "      print (\"House location : \", self.location,  \", Area: \", self.area, \"sq ft\")\n",
        "   "
      ],
      "execution_count": null,
      "outputs": []
    },
    {
      "cell_type": "code",
      "metadata": {
        "id": "4dCBijdPIXRZ",
        "colab_type": "code",
        "colab": {}
      },
      "source": [
        "\"This would create first object of House_Detail class\"\n",
        "h1_d = House_Detail(\"2bhk flat\",8000,\"Delhi\", 2000)\n",
        "\"This would create second object of House_Detail class\"\n",
        "h2_d = House_Detail(\"2 bhk flat \", 5000,\"Pune\", 5000)"
      ],
      "execution_count": null,
      "outputs": []
    },
    {
      "cell_type": "markdown",
      "metadata": {
        "id": "E-Obb0tMIXRb",
        "colab_type": "text"
      },
      "source": [
        "#### d) Encapsulation"
      ]
    },
    {
      "cell_type": "markdown",
      "metadata": {
        "id": "27rMgUHvIXRc",
        "colab_type": "text"
      },
      "source": [
        "A class is an example of encapsulation as it encapsulates all the data that is member functions, variables, etc."
      ]
    },
    {
      "cell_type": "markdown",
      "metadata": {
        "id": "5vOHiZlRIXRc",
        "colab_type": "text"
      },
      "source": [
        "#### e) Polymorphism"
      ]
    },
    {
      "cell_type": "markdown",
      "metadata": {
        "id": "BGo-1KopIXRc",
        "colab_type": "text"
      },
      "source": [
        "The word polymorphism means having many forms. In programming, polymorphism means same function name (but different signatures) being uses for different types."
      ]
    },
    {
      "cell_type": "code",
      "metadata": {
        "id": "spP7beXQIXRd",
        "colab_type": "code",
        "colab": {},
        "outputId": "c778543d-0dee-410a-ae5e-c49bfc63cbea"
      },
      "source": [
        "h1.displayHouse()\n",
        "h2.displayHouse()"
      ],
      "execution_count": null,
      "outputs": [
        {
          "output_type": "stream",
          "text": [
            "Name :  Flat_2bhk , Price:  2000\n",
            "Name :  Flat_3bhk , Price:  5000\n"
          ],
          "name": "stdout"
        }
      ]
    },
    {
      "cell_type": "code",
      "metadata": {
        "id": "1sfv_CgeIXRf",
        "colab_type": "code",
        "colab": {},
        "outputId": "c675ab22-d3e4-43f8-9a70-44c5a9587e89"
      },
      "source": [
        "h1_d.displayHouse()\n",
        "h2_d.displayHouse()"
      ],
      "execution_count": null,
      "outputs": [
        {
          "output_type": "stream",
          "text": [
            "Name :  2bhk flat , Price:  8000\n",
            "House location :  Delhi , Area:  2000 sq ft\n",
            "Name :  2 bhk flat  , Price:  5000\n",
            "House location :  Pune , Area:  5000 sq ft\n"
          ],
          "name": "stdout"
        }
      ]
    },
    {
      "cell_type": "code",
      "metadata": {
        "id": "LC84ZQvRIXRi",
        "colab_type": "code",
        "colab": {}
      },
      "source": [
        ""
      ],
      "execution_count": null,
      "outputs": []
    }
  ]
}